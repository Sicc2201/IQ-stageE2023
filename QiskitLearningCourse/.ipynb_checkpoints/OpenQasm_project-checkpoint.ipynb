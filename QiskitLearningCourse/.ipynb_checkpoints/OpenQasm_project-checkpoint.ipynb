{
 "cells": [
  {
   "cell_type": "code",
   "execution_count": 2,
   "id": "fcc87983",
   "metadata": {},
   "outputs": [],
   "source": [
    "# uncomment on first run to install qiskit library\n",
    "##############################################\n",
    "# !pip install openqasm3\n",
    "# !pip install pip install qiskit-qasm3-import\n",
    "# !pip install qiskit\n",
    "# !pip install qiskit-ibm-runtime\n",
    "##############################################\n",
    "\n",
    "#initialization\n",
    "import matplotlib.pyplot as plt  # plotting the results\n",
    "import numpy as np               # create and manage arrays\n",
    "# import math                      # using more complexe math operations\n",
    "\n",
    "# importing Qiskit\n",
    "from qiskit import IBMQ, Aer, transpile, execute\n",
    "from qiskit import QuantumCircuit, ClassicalRegister, QuantumRegister\n",
    "from qiskit.providers.ibmq import least_busy\n",
    "from qiskit.transpiler import CouplingMap\n",
    "import qiskit.quantum_info as qi\n",
    "\n",
    "# import for the qasm parsing\n",
    "from qiskit import qasm3\n",
    "from qiskit_qasm3_import import parse\n",
    "\n",
    "# import basic plot tools\n",
    "from qiskit.visualization import plot_histogram, array_to_latex, plot_gate_map\n",
    "from qiskit.circuit.library import MCMT, MCMTVChain, Diagonal\n",
    "\n",
    "# import math tools\n",
    "from math import floor, ceil, sqrt, pi, log2, cos, sin   # using more complexe math operations"
   ]
  },
  {
   "cell_type": "code",
   "execution_count": 3,
   "id": "bd1de286",
   "metadata": {},
   "outputs": [],
   "source": [
    "# export qiskit to qasm3 or run\n",
    "\n",
    "# exporter = qasm3.Exporter(\n",
    "#     includes=[], disable_constants=True, basis_gates=backend.configuration().basis_gates\n",
    "# )\n",
    "\n",
    "# print(qasm3_bell := exporter.dumps(qiskit_transpiled_circuit))\n",
    "\n",
    "# qasm3_bell_job = run_qasm3_program(qasm3_bell)"
   ]
  },
  {
   "cell_type": "code",
   "execution_count": null,
   "id": "f1b3a489",
   "metadata": {},
   "outputs": [],
   "source": [
    "# import qasm3 to qiskit backend\n",
    "\n",
    "# my_first_qasm3_program = \"\"\"\n",
    "# OPENQASM 3.0;\n",
    "\n",
    "# qubit $0;\n",
    "# bit a0;\n",
    "\n",
    "# x $0;\n",
    "# a0 = measure $0;\n",
    "\n",
    "# \"\"\"\n",
    "\n",
    "# job = run_qasm3_program(my_first_qasm3_program)"
   ]
  }
 ],
 "metadata": {
  "kernelspec": {
   "display_name": "QiskitVenv",
   "language": "python",
   "name": "qiskitvenv"
  },
  "language_info": {
   "codemirror_mode": {
    "name": "ipython",
    "version": 3
   },
   "file_extension": ".py",
   "mimetype": "text/x-python",
   "name": "python",
   "nbconvert_exporter": "python",
   "pygments_lexer": "ipython3",
   "version": "3.10.6"
  }
 },
 "nbformat": 4,
 "nbformat_minor": 5
}
