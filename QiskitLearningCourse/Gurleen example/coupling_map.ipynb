{
 "cells": [
  {
   "cell_type": "code",
   "execution_count": 1,
   "metadata": {},
   "outputs": [],
   "source": [
    "from qiskit import Aer, IBMQ, QuantumCircuit, transpile, QuantumRegister\n",
    "from qiskit.transpiler import CouplingMap"
   ]
  },
  {
   "cell_type": "code",
   "execution_count": 2,
   "metadata": {},
   "outputs": [
    {
     "name": "stderr",
     "output_type": "stream",
     "text": [
      "/tmp/ipykernel_13410/2020123530.py:1: DeprecationWarning: The package qiskit.providers.ibmq is being deprecated. Please see https://ibm.biz/provider_migration_guide to get instructions on how to migrate to qiskit-ibm-provider (https://github.com/Qiskit/qiskit-ibm-provider) and qiskit-ibm-runtime (https://github.com/Qiskit/qiskit-ibm-runtime).\n",
      "  provider = IBMQ.load_account()\n",
      "/tmp/ipykernel_13410/2020123530.py:1: DeprecationWarning: The qiskit.IBMQ entrypoint and the qiskit-ibmq-provider package (accessible from 'qiskit.providers.ibmq`) are deprecated and will be removed in a future release. Instead you should use the qiskit-ibm-provider package which is accessible from 'qiskit_ibm_provider'. You can install it with 'pip install qiskit_ibm_provider'. Just replace 'qiskit.IBMQ' with 'qiskit_ibm_provider.IBMProvider'\n",
      "  provider = IBMQ.load_account()\n"
     ]
    }
   ],
   "source": [
    "provider = IBMQ.load_account()"
   ]
  },
  {
   "cell_type": "code",
   "execution_count": 3,
   "metadata": {},
   "outputs": [],
   "source": [
    "backend = provider.get_backend('ibm_perth')"
   ]
  },
  {
   "cell_type": "code",
   "execution_count": 4,
   "metadata": {},
   "outputs": [],
   "source": [
    "coupling_map = CouplingMap(backend.configuration().coupling_map)"
   ]
  },
  {
   "cell_type": "code",
   "execution_count": 5,
   "metadata": {},
   "outputs": [],
   "source": [
    "cm_alice = coupling_map.reduce([0, 1, 2])\n",
    "cm_bob = coupling_map.reduce([4, 5, 6])"
   ]
  },
  {
   "cell_type": "code",
   "execution_count": 18,
   "metadata": {},
   "outputs": [],
   "source": [
    "circ_alice = QuantumCircuit(3)\n",
    "circ_alice.cx([1, 2], [0])\n",
    "circ_alice.draw()\n",
    "\n",
    "layout = {circ_alice.qubits[0]:0, circ_alice.qubits[1]:1, circ_alice.qubits[2]:2}"
   ]
  },
  {
   "cell_type": "code",
   "execution_count": 19,
   "metadata": {},
   "outputs": [],
   "source": [
    "tr_circ_alice = transpile(circ_alice, initial_layout = layout, coupling_map = cm_alice)"
   ]
  },
  {
   "cell_type": "code",
   "execution_count": 20,
   "metadata": {},
   "outputs": [
    {
     "data": {
      "text/html": [
       "<pre style=\"word-wrap: normal;white-space: pre;background: #fff0;line-height: 1.1;font-family: &quot;Courier New&quot;,Courier,monospace\">         ┌───┐   ┌───┐\n",
       "q_0 -> 0 ┤ X ├───┤ X ├\n",
       "         └─┬─┘   └─┬─┘\n",
       "q_1 -> 1 ──■───X───■──\n",
       "               │      \n",
       "q_2 -> 2 ──────X──────\n",
       "                      </pre>"
      ],
      "text/plain": [
       "         ┌───┐   ┌───┐\n",
       "q_0 -> 0 ┤ X ├───┤ X ├\n",
       "         └─┬─┘   └─┬─┘\n",
       "q_1 -> 1 ──■───X───■──\n",
       "               │      \n",
       "q_2 -> 2 ──────X──────\n",
       "                      "
      ]
     },
     "execution_count": 20,
     "metadata": {},
     "output_type": "execute_result"
    }
   ],
   "source": [
    "tr_circ_alice.draw()"
   ]
  },
  {
   "cell_type": "code",
   "execution_count": 9,
   "metadata": {},
   "outputs": [],
   "source": [
    "tr_circ_bob = tr_circ_alice.copy()"
   ]
  },
  {
   "cell_type": "code",
   "execution_count": 10,
   "metadata": {},
   "outputs": [],
   "source": [
    "qreg_alice = QuantumRegister(3, 'qr_a')\n",
    "qreg_bob = QuantumRegister(3, 'qr_b')\n",
    "qreg_anc = QuantumRegister(1, 'qr_anc')\n",
    "final_circuit = QuantumCircuit(qreg_alice, qreg_anc, qreg_bob)\n",
    "final_circuit.compose(tr_circ_alice, qubits = [0, 4, 2], inplace = True)\n",
    "final_circuit.swap([1, 3], [3, 5])\n",
    "final_circuit.compose(tr_circ_bob, qubits = [1, 5, 6], inplace = True)\n"
   ]
  },
  {
   "cell_type": "code",
   "execution_count": 11,
   "metadata": {},
   "outputs": [
    {
     "data": {
      "text/html": [
       "<pre style=\"word-wrap: normal;white-space: pre;background: #fff0;line-height: 1.1;font-family: &quot;Courier New&quot;,Courier,monospace\">        ┌───┐                           \n",
       "qr_a_0: ┤ X ├────X──────────────────────\n",
       "        └─┬─┘    │         ┌───┐        \n",
       "qr_a_1: ──┼───X──┼─────────┤ X ├─X──────\n",
       "          │   │  │         └─┬─┘ │      \n",
       "qr_a_2: ──┼───┼──┼──────■────┼───┼──────\n",
       "          │   │  │      │    │   │      \n",
       "qr_anc: ──┼───X──┼──X───┼────┼───┼──────\n",
       "          │      │  │ ┌─┴─┐  │   │      \n",
       "qr_b_0: ──■──────X──┼─┤ X ├──┼───┼──────\n",
       "                    │ └───┘  │   │ ┌───┐\n",
       "qr_b_1: ────────────X────────■───X─┤ X ├\n",
       "                                   └─┬─┘\n",
       "qr_b_2: ─────────────────────────────■──\n",
       "                                        </pre>"
      ],
      "text/plain": [
       "        ┌───┐                           \n",
       "qr_a_0: ┤ X ├────X──────────────────────\n",
       "        └─┬─┘    │         ┌───┐        \n",
       "qr_a_1: ──┼───X──┼─────────┤ X ├─X──────\n",
       "          │   │  │         └─┬─┘ │      \n",
       "qr_a_2: ──┼───┼──┼──────■────┼───┼──────\n",
       "          │   │  │      │    │   │      \n",
       "qr_anc: ──┼───X──┼──X───┼────┼───┼──────\n",
       "          │      │  │ ┌─┴─┐  │   │      \n",
       "qr_b_0: ──■──────X──┼─┤ X ├──┼───┼──────\n",
       "                    │ └───┘  │   │ ┌───┐\n",
       "qr_b_1: ────────────X────────■───X─┤ X ├\n",
       "                                   └─┬─┘\n",
       "qr_b_2: ─────────────────────────────■──\n",
       "                                        "
      ]
     },
     "execution_count": 11,
     "metadata": {},
     "output_type": "execute_result"
    }
   ],
   "source": [
    "final_circuit.draw()"
   ]
  },
  {
   "cell_type": "code",
   "execution_count": 12,
   "metadata": {},
   "outputs": [],
   "source": [
    "initial_layout = {}\n",
    "for i, q in enumerate(final_circuit.qubits):\n",
    "    initial_layout[i] = q"
   ]
  },
  {
   "cell_type": "code",
   "execution_count": 13,
   "metadata": {},
   "outputs": [],
   "source": [
    "tr_final_circuit = transpile(final_circuit, initial_layout = initial_layout, backend = backend, optimization_level = 0)"
   ]
  },
  {
   "cell_type": "code",
   "execution_count": 14,
   "metadata": {},
   "outputs": [
    {
     "data": {
      "text/html": [
       "<pre style=\"word-wrap: normal;white-space: pre;background: #fff0;line-height: 1.1;font-family: &quot;Courier New&quot;,Courier,monospace\">                   ┌───┐                         ┌───┐                         »\n",
       "  qr_a_0 -> 0 ──■──┤ X ├──■───────────────────■──┤ X ├──■──────────────────────»\n",
       "              ┌─┴─┐└─┬─┘┌─┴─┐     ┌───┐     ┌─┴─┐└─┬─┘┌─┴─┐     ┌───┐          »\n",
       "  qr_a_1 -> 1 ┤ X ├──■──┤ X ├──■──┤ X ├──■──┤ X ├──■──┤ X ├──■──┤ X ├──■───────»\n",
       "              └───┘     └───┘  │  └─┬─┘  │  └───┘     └───┘  │  └─┬─┘  │       »\n",
       "  qr_a_2 -> 2 ─────────────────┼────┼────┼───────────────────┼────┼────┼───────»\n",
       "                             ┌─┴─┐  │  ┌─┴─┐┌───┐          ┌─┴─┐  │  ┌─┴─┐     »\n",
       "qr_anc_0 -> 3 ───────────────┤ X ├──■──┤ X ├┤ X ├──────────┤ X ├──■──┤ X ├──■──»\n",
       "                   ┌───┐     └───┘     └───┘└─┬─┘          └───┘     └───┘  │  »\n",
       "  qr_b_0 -> 4 ──■──┤ X ├──■───────────────────┼─────────────────────────────┼──»\n",
       "              ┌─┴─┐└─┬─┘┌─┴─┐                 │                           ┌─┴─┐»\n",
       "  qr_b_1 -> 5 ┤ X ├──■──┤ X ├─────────────────■───────────────────────────┤ X ├»\n",
       "              └───┘     └───┘                                             └───┘»\n",
       "  qr_b_2 -> 6 ─────────────────────────────────────────────────────────────────»\n",
       "                                                                               »\n",
       "«                                            ┌───┐                         »\n",
       "«  qr_a_0 -> 0 ───────────────────────────■──┤ X ├──■──────────────────────»\n",
       "«                             ┌───┐     ┌─┴─┐└─┬─┘┌─┴─┐     ┌───┐     ┌───┐»\n",
       "«  qr_a_1 -> 1 ────────────■──┤ X ├──■──┤ X ├──■──┤ X ├──■──┤ X ├──■──┤ X ├»\n",
       "«                          │  └─┬─┘  │  └───┘     └───┘  │  └─┬─┘  │  └─┬─┘»\n",
       "«  qr_a_2 -> 2 ────────────┼────┼────┼───────────────────┼────┼────┼────■──»\n",
       "«              ┌───┐     ┌─┴─┐  │  ┌─┴─┐               ┌─┴─┐  │  ┌─┴─┐┌───┐»\n",
       "«qr_anc_0 -> 3 ┤ X ├──■──┤ X ├──■──┤ X ├───────────────┤ X ├──■──┤ X ├┤ X ├»\n",
       "«              └─┬─┘  │  ├───┤     ├───┤     ┌───┐     └───┘     └───┘└─┬─┘»\n",
       "«  qr_b_0 -> 4 ──┼────┼──┤ X ├──■──┤ X ├──■──┤ X ├──■───────────────────┼──»\n",
       "«                │  ┌─┴─┐└─┬─┘┌─┴─┐└─┬─┘┌─┴─┐└─┬─┘┌─┴─┐                 │  »\n",
       "«  qr_b_1 -> 5 ──■──┤ X ├──■──┤ X ├──■──┤ X ├──■──┤ X ├─────────────────■──»\n",
       "«                   └───┘     └───┘     └───┘     └───┘                    »\n",
       "«  qr_b_2 -> 6 ────────────────────────────────────────────────────────────»\n",
       "«                                                                          »\n",
       "«                                  \n",
       "«  qr_a_0 -> 0 ────────────────────\n",
       "«                                  \n",
       "«  qr_a_1 -> 1 ────────────────────\n",
       "«                                  \n",
       "«  qr_a_2 -> 2 ────────────────────\n",
       "«                   ┌───┐          \n",
       "«qr_anc_0 -> 3 ──■──┤ X ├──■───────\n",
       "«                │  └─┬─┘  │       \n",
       "«  qr_b_0 -> 4 ──┼────┼────┼───────\n",
       "«              ┌─┴─┐  │  ┌─┴─┐┌───┐\n",
       "«  qr_b_1 -> 5 ┤ X ├──■──┤ X ├┤ X ├\n",
       "«              └───┘     └───┘└─┬─┘\n",
       "«  qr_b_2 -> 6 ─────────────────■──\n",
       "«                                  </pre>"
      ],
      "text/plain": [
       "                   ┌───┐                         ┌───┐                         »\n",
       "  qr_a_0 -> 0 ──■──┤ X ├──■───────────────────■──┤ X ├──■──────────────────────»\n",
       "              ┌─┴─┐└─┬─┘┌─┴─┐     ┌───┐     ┌─┴─┐└─┬─┘┌─┴─┐     ┌───┐          »\n",
       "  qr_a_1 -> 1 ┤ X ├──■──┤ X ├──■──┤ X ├──■──┤ X ├──■──┤ X ├──■──┤ X ├──■───────»\n",
       "              └───┘     └───┘  │  └─┬─┘  │  └───┘     └───┘  │  └─┬─┘  │       »\n",
       "  qr_a_2 -> 2 ─────────────────┼────┼────┼───────────────────┼────┼────┼───────»\n",
       "                             ┌─┴─┐  │  ┌─┴─┐┌───┐          ┌─┴─┐  │  ┌─┴─┐     »\n",
       "qr_anc_0 -> 3 ───────────────┤ X ├──■──┤ X ├┤ X ├──────────┤ X ├──■──┤ X ├──■──»\n",
       "                   ┌───┐     └───┘     └───┘└─┬─┘          └───┘     └───┘  │  »\n",
       "  qr_b_0 -> 4 ──■──┤ X ├──■───────────────────┼─────────────────────────────┼──»\n",
       "              ┌─┴─┐└─┬─┘┌─┴─┐                 │                           ┌─┴─┐»\n",
       "  qr_b_1 -> 5 ┤ X ├──■──┤ X ├─────────────────■───────────────────────────┤ X ├»\n",
       "              └───┘     └───┘                                             └───┘»\n",
       "  qr_b_2 -> 6 ─────────────────────────────────────────────────────────────────»\n",
       "                                                                               »\n",
       "«                                            ┌───┐                         »\n",
       "«  qr_a_0 -> 0 ───────────────────────────■──┤ X ├──■──────────────────────»\n",
       "«                             ┌───┐     ┌─┴─┐└─┬─┘┌─┴─┐     ┌───┐     ┌───┐»\n",
       "«  qr_a_1 -> 1 ────────────■──┤ X ├──■──┤ X ├──■──┤ X ├──■──┤ X ├──■──┤ X ├»\n",
       "«                          │  └─┬─┘  │  └───┘     └───┘  │  └─┬─┘  │  └─┬─┘»\n",
       "«  qr_a_2 -> 2 ────────────┼────┼────┼───────────────────┼────┼────┼────■──»\n",
       "«              ┌───┐     ┌─┴─┐  │  ┌─┴─┐               ┌─┴─┐  │  ┌─┴─┐┌───┐»\n",
       "«qr_anc_0 -> 3 ┤ X ├──■──┤ X ├──■──┤ X ├───────────────┤ X ├──■──┤ X ├┤ X ├»\n",
       "«              └─┬─┘  │  ├───┤     ├───┤     ┌───┐     └───┘     └───┘└─┬─┘»\n",
       "«  qr_b_0 -> 4 ──┼────┼──┤ X ├──■──┤ X ├──■──┤ X ├──■───────────────────┼──»\n",
       "«                │  ┌─┴─┐└─┬─┘┌─┴─┐└─┬─┘┌─┴─┐└─┬─┘┌─┴─┐                 │  »\n",
       "«  qr_b_1 -> 5 ──■──┤ X ├──■──┤ X ├──■──┤ X ├──■──┤ X ├─────────────────■──»\n",
       "«                   └───┘     └───┘     └───┘     └───┘                    »\n",
       "«  qr_b_2 -> 6 ────────────────────────────────────────────────────────────»\n",
       "«                                                                          »\n",
       "«                                  \n",
       "«  qr_a_0 -> 0 ────────────────────\n",
       "«                                  \n",
       "«  qr_a_1 -> 1 ────────────────────\n",
       "«                                  \n",
       "«  qr_a_2 -> 2 ────────────────────\n",
       "«                   ┌───┐          \n",
       "«qr_anc_0 -> 3 ──■──┤ X ├──■───────\n",
       "«                │  └─┬─┘  │       \n",
       "«  qr_b_0 -> 4 ──┼────┼────┼───────\n",
       "«              ┌─┴─┐  │  ┌─┴─┐┌───┐\n",
       "«  qr_b_1 -> 5 ┤ X ├──■──┤ X ├┤ X ├\n",
       "«              └───┘     └───┘└─┬─┘\n",
       "«  qr_b_2 -> 6 ─────────────────■──\n",
       "«                                  "
      ]
     },
     "execution_count": 14,
     "metadata": {},
     "output_type": "execute_result"
    }
   ],
   "source": [
    "tr_final_circuit.draw()"
   ]
  },
  {
   "cell_type": "code",
   "execution_count": 15,
   "metadata": {},
   "outputs": [
    {
     "data": {
      "text/plain": [
       "[Qubit(QuantumRegister(7, 'q'), 0),\n",
       " Qubit(QuantumRegister(7, 'q'), 1),\n",
       " Qubit(QuantumRegister(7, 'q'), 2),\n",
       " Qubit(QuantumRegister(7, 'q'), 3),\n",
       " Qubit(QuantumRegister(7, 'q'), 4),\n",
       " Qubit(QuantumRegister(7, 'q'), 5),\n",
       " Qubit(QuantumRegister(7, 'q'), 6)]"
      ]
     },
     "execution_count": 15,
     "metadata": {},
     "output_type": "execute_result"
    }
   ],
   "source": [
    "tr_final_circuit.qubits"
   ]
  },
  {
   "cell_type": "code",
   "execution_count": null,
   "metadata": {},
   "outputs": [],
   "source": []
  }
 ],
 "metadata": {
  "kernelspec": {
   "display_name": "Python 3 (ipykernel)",
   "language": "python",
   "name": "python3"
  },
  "language_info": {
   "codemirror_mode": {
    "name": "ipython",
    "version": 3
   },
   "file_extension": ".py",
   "mimetype": "text/x-python",
   "name": "python",
   "nbconvert_exporter": "python",
   "pygments_lexer": "ipython3",
   "version": "3.10.6"
  }
 },
 "nbformat": 4,
 "nbformat_minor": 2
}
